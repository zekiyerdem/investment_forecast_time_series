{
 "cells": [
  {
   "cell_type": "markdown",
   "metadata": {},
   "source": [
    "### First we will create a syntetic data for the business problem\n",
    "\n",
    "**To simulate this scenario, we can generate a dataset with the following columns:**\n",
    "\n",
    "- Date: Date for the time series data (monthly data from January 2010 to December 2023).\n",
    "- City: Different city locations in Ontario where the retirement houses are located.\n",
    "- Property_Price: Average property price in that city.\n",
    "- Occupancy_Rate: Average occupancy rate of retirement houses in each city (percentage).\n",
    "- Inflation_Rate: Monthly inflation rate (impact on the property market).\n",
    "- Population_Age_65+: Population above 65 years old in the city (potential customers)."
   ]
  },
  {
   "cell_type": "code",
   "execution_count": 13,
   "metadata": {},
   "outputs": [
    {
     "name": "stdout",
     "output_type": "stream",
     "text": [
      "Dataset created successfully with features.\n"
     ]
    }
   ],
   "source": [
    "import pandas as pd\n",
    "import numpy as np\n",
    "\n",
    "# Parameters for the dataset\n",
    "np.random.seed(42)\n",
    "dates = pd.date_range(start='2010-01-01', end='2023-12-01', freq='MS')\n",
    "cities = ['Toronto', 'Ottawa', 'Mississauga', 'Brampton', 'Hamilton', 'London', 'Markham', 'Vaughan', 'Kitchener', 'Windsor']\n",
    "\n",
    "# Mean and standard deviation for property prices (600k to 1.2M)\n",
    "mean_price = 900000\n",
    "std_dev_price = 100000\n",
    "\n",
    "# Create an empty dataframe\n",
    "data = []\n",
    "\n",
    "# Populate the dataset\n",
    "for city in cities:\n",
    "    for date in dates:\n",
    "        property_price = round(np.random.normal(mean_price, std_dev_price))  # Normally distributed property prices\n",
    "        # Ensure that prices stay within bounds of 600K to 1.2M\n",
    "        property_price = max(600000, min(1200000, property_price))\n",
    "        \n",
    "        occupancy_rate = round(np.random.uniform(70, 95))  # Simulated occupancy rate percentage\n",
    "        inflation_rate = round(np.random.uniform(1, 4),2)  # Inflation rate\n",
    "        population_age_65 = round(np.random.normal(50000, 10000))  # Population aged 65+\n",
    "        population_age_65_growth = round(np.random.uniform(0.5, 3.5),2)  # Population growth rate of 65+\n",
    "        median_age = round(np.random.uniform(40, 50))  # Median age of the city\n",
    "        income_level = round(np.random.normal(60000, 15000))  # Average income level for seniors\n",
    "        proximity_healthcare = round(np.random.uniform(1, 10))  # Distance to nearest healthcare facility in km\n",
    "        walkability_score = round(np.random.uniform(50, 90))  # Walkability score\n",
    "        crime_rate = round(np.random.uniform(1, 10))  # Crime rate per 1000 people\n",
    "        property_tax_rate = round(np.random.uniform(0.5, 2.5))  # Property tax rate percentage\n",
    "        public_transport_access = np.random.choice([0, 1], p=[0.3, 0.7])  # Public transport access (1 or 0)\n",
    "        government_incentives = np.random.choice([0, 1], p=[0.4, 0.6])  # Government incentives (1 or 0)\n",
    "        environmental_quality = np.random.uniform(60, 100)  # Environmental quality score (0-100)\n",
    "        senior_living_vacancy_rate = np.random.uniform(5, 15)  # Vacancy rate in senior living facilities\n",
    "        mental_health_programs = np.random.choice([0, 1], p=[0.4, 0.6])  # Mental health programs (1 or 0)\n",
    "        memory_care_availability = np.random.choice([0, 1], p=[0.3, 0.7])  # Memory care availability (1 or 0)\n",
    "\n",
    "        data.append([date, city, property_price, occupancy_rate, inflation_rate, population_age_65, population_age_65_growth,\n",
    "                     median_age, income_level, proximity_healthcare, walkability_score, crime_rate, property_tax_rate,\n",
    "                     public_transport_access, government_incentives, environmental_quality, senior_living_vacancy_rate,\n",
    "                     mental_health_programs, memory_care_availability])\n",
    "\n",
    "# Create the DataFrame\n",
    "columns = ['Date', 'City', 'Property_Price', 'Occupancy_Rate', 'Inflation_Rate', 'Population_Age_65+', \n",
    "           'Population_Age_65_Growth', 'Median_Age', 'Income_Level', 'Proximity_to_Healthcare', 'Walkability_Score', \n",
    "           'Crime_Rate', 'Property_Tax_Rate', 'Public_Transport_Access', 'Government_Incentives', \n",
    "           'Environmental_Quality', 'Senior_Living_Vacancy_Rate', 'Mental_Health_Programs', 'Memory_Care_Availability']\n",
    "\n",
    "df = pd.DataFrame(data, columns=columns)\n",
    "\n",
    "# Save the dataset\n",
    "df.to_csv('../Data/ontario_retirement_house_investment_data.csv', index=False)\n",
    "\n",
    "print(\"Dataset created successfully with features.\")\n"
   ]
  },
  {
   "cell_type": "code",
   "execution_count": null,
   "metadata": {},
   "outputs": [],
   "source": []
  }
 ],
 "metadata": {
  "kernelspec": {
   "display_name": "Python 3",
   "language": "python",
   "name": "python3"
  },
  "language_info": {
   "codemirror_mode": {
    "name": "ipython",
    "version": 3
   },
   "file_extension": ".py",
   "mimetype": "text/x-python",
   "name": "python",
   "nbconvert_exporter": "python",
   "pygments_lexer": "ipython3",
   "version": "3.12.4"
  }
 },
 "nbformat": 4,
 "nbformat_minor": 2
}
