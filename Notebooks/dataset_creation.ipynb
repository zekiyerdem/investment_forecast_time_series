{
 "cells": [
  {
   "cell_type": "markdown",
   "metadata": {},
   "source": [
    "### First we will create a syntetic data for the business problem\n",
    "\n",
    "**To simulate this scenario, we can generate a dataset with the following columns:**\n",
    "\n",
    "- Date: Date for the time series data (monthly data from January 2010 to December 2023).\n",
    "- City: Different city locations in Ontario where the retirement houses are located.\n",
    "- Property_Price: Average property price in that city.\n",
    "- Occupancy_Rate: Average occupancy rate of retirement houses in each city (percentage).\n",
    "- Inflation_Rate: Monthly inflation rate (impact on the property market).\n",
    "- Population_Age_65+: Population above 65 years old in the city (potential customers)."
   ]
  },
  {
   "cell_type": "code",
   "execution_count": 11,
   "metadata": {},
   "outputs": [
    {
     "name": "stdout",
     "output_type": "stream",
     "text": [
      "Dataset created successfully.\n"
     ]
    }
   ],
   "source": [
    "import pandas as pd\n",
    "import numpy as np\n",
    "\n",
    "# Parameters for the dataset\n",
    "np.random.seed(42)\n",
    "dates = pd.date_range(start='2010-01-01', end='2023-12-01', freq='MS')\n",
    "cities = ['Toronto', 'Ottawa', 'Mississauga', 'Brampton', 'Hamilton', 'London', 'Markham', 'Vaughan', 'Kitchener', 'Windsor']\n",
    "\n",
    "# Mean and standard deviation for property prices (600k to 1.2M)\n",
    "mean_price = 900000\n",
    "std_dev_price = 100000\n",
    "\n",
    "# Create an empty dataframe\n",
    "data = []\n",
    "\n",
    "# Populate the dataset\n",
    "for city in cities:\n",
    "    for date in dates:\n",
    "        property_price = round(np.random.normal(mean_price, std_dev_price))  # Normally distributed property prices\n",
    "        # Ensure that prices stay within bounds of 600K to 1.2M\n",
    "        property_price = max(600000, min(1200000, property_price))\n",
    "        occupancy_rate = np.random.uniform(70, 95)  # Simulated occupancy rate percentage\n",
    "        inflation_rate = np.random.uniform(1, 4)  # Inflation rate\n",
    "        population_age_65 = round(np.random.normal(50000, 10000))  # Population aged 65+\n",
    "        \n",
    "        data.append([date, city, property_price, occupancy_rate, inflation_rate, population_age_65])\n",
    "\n",
    "# Create the DataFrame\n",
    "df = pd.DataFrame(data, columns=['Date', 'City', 'Property_Price', 'Occupancy_Rate', 'Inflation_Rate', 'Population_Age_65+'])\n",
    "\n",
    "# Save the dataset\n",
    "df.to_csv('../Data/ontario_retirement_house_investment_data.csv', index=False)\n",
    "\n",
    "print(\"Dataset created successfully.\")\n"
   ]
  },
  {
   "cell_type": "code",
   "execution_count": null,
   "metadata": {},
   "outputs": [],
   "source": []
  }
 ],
 "metadata": {
  "kernelspec": {
   "display_name": "Python 3",
   "language": "python",
   "name": "python3"
  },
  "language_info": {
   "codemirror_mode": {
    "name": "ipython",
    "version": 3
   },
   "file_extension": ".py",
   "mimetype": "text/x-python",
   "name": "python",
   "nbconvert_exporter": "python",
   "pygments_lexer": "ipython3",
   "version": "3.12.4"
  }
 },
 "nbformat": 4,
 "nbformat_minor": 2
}
